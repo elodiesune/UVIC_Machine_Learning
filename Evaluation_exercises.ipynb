{
 "cells": [
  {
   "cell_type": "markdown",
   "id": "f2ee1674-e0a1-47b8-8a23-7a67373279cf",
   "metadata": {
    "tags": []
   },
   "source": [
    "# Evaluation exercises\n",
    "\n",
    "Ensure that you document your code with brief explanations for each step. Use markdown cells for any comments or clarifications on your thought process and any observations made during the analysis."
   ]
  },
  {
   "cell_type": "markdown",
   "id": "832ce977",
   "metadata": {},
   "source": [
    "# Libraries"
   ]
  },
  {
   "cell_type": "code",
   "execution_count": 1,
   "id": "b7249bcd",
   "metadata": {},
   "outputs": [
    {
     "name": "stdout",
     "output_type": "stream",
     "text": [
      "WARNING:tensorflow:From c:\\Users\\elodi\\anaconda3\\lib\\site-packages\\keras\\src\\losses.py:2976: The name tf.losses.sparse_softmax_cross_entropy is deprecated. Please use tf.compat.v1.losses.sparse_softmax_cross_entropy instead.\n",
      "\n"
     ]
    }
   ],
   "source": [
    "from sklearn import datasets\n",
    "import pandas as pd\n",
    "import numpy as np\n",
    "from os import path\n",
    "from sklearn.preprocessing import StandardScaler\n",
    "from sklearn.decomposition import PCA\n",
    "import matplotlib.pyplot as plt\n",
    "# To ignore some plot warnings\n",
    "import warnings\n",
    "warnings.filterwarnings('ignore')\n",
    "import tensorflow as tf\n",
    "from sklearn.cluster import KMeans\n",
    "from sklearn.metrics import adjusted_rand_score,silhouette_score\n",
    "from sklearn.linear_model import LinearRegression, LogisticRegression\n",
    "from sklearn.model_selection import train_test_split\n",
    "import plotly.express as px\n",
    "from sklearn.metrics import mean_squared_error\n",
    "from sklearn.metrics import accuracy_score, f1_score, RocCurveDisplay, ConfusionMatrixDisplay, classification_report\n",
    "from mlxtend.plotting import plot_decision_regions\n",
    "from sklearn.svm import SVC\n",
    "from sklearn.model_selection import GridSearchCV\n",
    "from sklearn.model_selection import cross_val_score\n",
    "from tensorflow.keras.datasets import mnist\n",
    "import matplotlib.pyplot as plt\n",
    "from tensorflow.keras.datasets import mnist\n",
    "from tensorflow.keras.models import Sequential\n",
    "from tensorflow.keras.layers import Conv2D, AveragePooling2D, Flatten, Dense\n",
    "from tensorflow.keras.utils import to_categorical\n"
   ]
  },
  {
   "cell_type": "markdown",
   "id": "a7f8fceb",
   "metadata": {},
   "source": [
    "# Exercise 1: Dimensionality Reduction and Clustering"
   ]
  },
  {
   "cell_type": "markdown",
   "id": "7b741ba0",
   "metadata": {},
   "source": [
    "Load the Iris dataset and perform the following steps:\n",
    "\n",
    "1. Apply Principal Component Analysis (PCA) to reduce the dimensionality of the dataset into 2D. Make sure to project your data in 2D with the three types of flowers labeled (with colours,...). How much variation is explained by the two principal components?"
   ]
  },
  {
   "cell_type": "markdown",
   "id": "032ae432",
   "metadata": {},
   "source": [
    "Load and explore data."
   ]
  },
  {
   "cell_type": "code",
   "execution_count": null,
   "id": "dedf1170",
   "metadata": {},
   "outputs": [],
   "source": [
    "iris = datasets.load_iris()\n",
    "df = pd.DataFrame(data=iris['data'], columns=iris['feature_names'])\n",
    "df['species'] = iris['target']\n",
    "display(df.head())\n",
    "display(df.describe())\n",
    "display(df.isnull().sum()) # no missing values"
   ]
  },
  {
   "cell_type": "markdown",
   "id": "2ff0dadb",
   "metadata": {},
   "source": [
    "Now we process the data for machine learning."
   ]
  },
  {
   "cell_type": "code",
   "execution_count": null,
   "id": "749c33f7",
   "metadata": {},
   "outputs": [],
   "source": [
    "# Continous independent variables\n",
    "X = df.drop(['species'], axis=1)\n",
    "# Labels or dependent variable (discrete classes)\n",
    "Y = df['species']\n",
    "\n",
    "# Scaling )\n",
    "sc = StandardScaler() # substracts mean and divides by std\n",
    "X_scaled = sc.fit_transform(X)\n",
    "\n",
    "# Visualize first five rows \n",
    "X_scaled[:5]"
   ]
  },
  {
   "cell_type": "code",
   "execution_count": null,
   "id": "d165ca2a",
   "metadata": {},
   "outputs": [],
   "source": [
    "# Instanciate PCA with 2 components\n",
    "pca = PCA(n_components=2)\n",
    "\n",
    "# Fit PCA to our model \n",
    "PC = pca.fit_transform(X_scaled)\n",
    "print(\"Explained Variance Ratios:\", pca.explained_variance_ratio_)  \n",
    "print(\"\\n\")\n",
    "\n",
    "# Visualize first five rows\n",
    "print(PC[:5])\n",
    "\n",
    "# Create a DataFrame with the t-SNE results\n",
    "PC_df = pd.DataFrame(PC, columns=['PC1', 'PC2'])\n",
    "print(PC_df)"
   ]
  },
  {
   "cell_type": "markdown",
   "id": "db892d28",
   "metadata": {},
   "source": [
    "We can see that 73% of the variance is explained with the 1st component and 23% with the second one, so 96% cumulatively which is good. Now we plot the components."
   ]
  },
  {
   "cell_type": "code",
   "execution_count": null,
   "id": "aaef949b",
   "metadata": {},
   "outputs": [],
   "source": [
    "plt.figure(figsize=(8, 6))\n",
    "for i, target_name in enumerate(df['species'].unique()):\n",
    "    plt.scatter(PC[df['species'] == i, 0], PC[df['species'] == i, 1], label=iris.target_names[i])\n",
    "\n",
    "plt.title('PCA Projection of Iris Dataset')\n",
    "plt.xlabel('Principal Component 1')\n",
    "plt.ylabel('Principal Component 2')\n",
    "plt.legend()\n",
    "plt.grid(True)\n",
    "plt.show()\n"
   ]
  },
  {
   "cell_type": "markdown",
   "id": "bf0579db",
   "metadata": {},
   "source": [
    "We can see that the first component separates well setosa from the 2 others, and with the second component added we can separate better the 3 kinds of petals. "
   ]
  },
  {
   "cell_type": "markdown",
   "id": "d245fa46",
   "metadata": {},
   "source": [
    "2. Use k-means clustering on the PCA-transformed data and try to extract some clusters. How does the random_seed influence on the results?\n",
    "\n",
    "\n",
    "3. Compute the Silhouette Score and Adjusted Rand Index (ARI) for the k-means clustering, considering the known labels of the three types of flowers in the Iris dataset."
   ]
  },
  {
   "cell_type": "code",
   "execution_count": null,
   "id": "c3c5c33c",
   "metadata": {},
   "outputs": [],
   "source": [
    "# Function to calculate and plot k-means clustering\n",
    "def kmeans_clustering_and_tsne(PC, true_labels, num_clusters_list, random_seed=42):\n",
    "\n",
    "    all_clusters = list()\n",
    "    for num_clusters in num_clusters_list:\n",
    "        \n",
    "        # Apply k-means clustering\n",
    "        kmeans = KMeans(n_clusters=num_clusters, random_state=random_seed, n_init='auto')\n",
    "        clusters = kmeans.fit_predict(PC)\n",
    "        all_clusters.append(clusters)\n",
    "    \n",
    "        # Plot the t-SNE results with cluster colors\n",
    "        plt.figure(figsize=(10, 8))\n",
    "        plt.scatter(PC_df['PC1'], PC_df['PC2'], c=clusters, cmap='tab20', s=5)\n",
    "        plt.title(f'PC Visualization (Clusters={num_clusters})')\n",
    "        plt.xlabel('PC Component 1')\n",
    "        plt.ylabel('PC Component 2')\n",
    "        plt.show()\n",
    "\n",
    "        # Calculate Adjusted Rand Index (ARI)\n",
    "        ari = adjusted_rand_score(true_labels, clusters)\n",
    "        print(f'Adjusted Rand Index (ARI) for Clusters={num_clusters}: {ari:.4f}\\n')\n",
    "\n",
    "        # Calculate silhouette score\n",
    "        silhouette = silhouette_score(X, clusters)\n",
    "        print(f'Silhouette score for Clusters={num_clusters}: {silhouette:.4f}\\n')\n",
    "\n",
    "\n",
    "\n",
    "\n",
    "# List of different numbers of clusters to try\n",
    "num_clusters_list = [2,3, 4, 7]\n",
    "\n",
    "# Change the random seed to see how much the algorithm depends on initialization conditions\n",
    "random_seed = 123\n",
    "\n",
    "# Define labels and print them to check\n",
    "labels = iris.target\n",
    "print(np.unique(iris.target))\n",
    "\n",
    "# Call the function to perform k-means clustering and t-SNE for each number of clusters\n",
    "kmeans_clustering_and_tsne(PC, labels, num_clusters_list, random_seed)\n"
   ]
  },
  {
   "cell_type": "markdown",
   "id": "639c59c5",
   "metadata": {},
   "source": [
    "The Silhouette Score measures how close each point in a cluster is to the points in the neighboring clusters compared to its own cluster. The Adjusted Rand Index (ARI) quantifies the similarity between two clusterings, accounting for chance agreement. So we want a high Silhouette Score, meaning well-separated clusters, points tightly grouped and well-separated from neighboring clusters. And we want a high ARI, meaning strong agreement between the cluster assignments and the true labels. Here, the best scores are obtained with 3 clusters: ARI is 0.6451 and Silhouette score 0.4565. This makes sense with the data too (3 petals). "
   ]
  },
  {
   "cell_type": "markdown",
   "id": "3c378f87",
   "metadata": {},
   "source": [
    "# Exercise 2: Regression and Classification\n"
   ]
  },
  {
   "cell_type": "markdown",
   "id": "61ebec81",
   "metadata": {},
   "source": [
    "##### Implement a linear regression model to predict the sepal length (in cm) feature based on the other three features. Make sure to show the regression coeffcients obtained with the training dataset and the RMSE metric using a test dataset."
   ]
  },
  {
   "cell_type": "markdown",
   "id": "6adb6f3e",
   "metadata": {},
   "source": [
    "We want sepal length as target vs 3 other features : sepal width, petal length, petal width (no species?)"
   ]
  },
  {
   "cell_type": "code",
   "execution_count": null,
   "id": "a965a6bc",
   "metadata": {},
   "outputs": [],
   "source": [
    "# Change target\n",
    "X = df.drop(['sepal length (cm)'], axis=1)\n",
    "Y = df['sepal length (cm)']\n",
    "# Make a train/test splitting (keep 80% of the dataset for model training).\n",
    "X_train, X_test, Y_train, Y_test = train_test_split(X, Y, test_size = 0.2, random_state = 42)\n",
    "# Redo scaling (careful fit transform only the train!)\n",
    "X_train = sc.fit_transform(X_train)\n",
    "X_test = sc.transform(X_test)\n",
    "# Train model\n",
    "print(\"Train model...\")\n",
    "regressor = LinearRegression()\n",
    "regressor.fit(X_train, Y_train)\n",
    "print(\"...Done.\")\n",
    "# Print regression coefficients\n",
    "print(\"Regression Coefficients:\")\n",
    "print(regressor.coef_)"
   ]
  },
  {
   "cell_type": "code",
   "execution_count": null,
   "id": "c1d3ca22",
   "metadata": {},
   "outputs": [],
   "source": [
    "# Print R^2 scores\n",
    "print(\"R2 score on training set : \", regressor.score(X_train, Y_train))\n",
    "print(\"R2 score on test set : \", regressor.score(X_test, Y_test))\n",
    "# Perform 10-fold cross-validation \n",
    "print(\"10-fold cross-validation...\")\n",
    "scores = cross_val_score(regressor, X_train, Y_train, cv=10)\n",
    "print('R2 score on training set with CV=10 is : ', scores.mean())\n",
    "print('R2 score standard deviation on training set with CV=10 is : ', scores.std())"
   ]
  },
  {
   "cell_type": "markdown",
   "id": "d37c49cb",
   "metadata": {},
   "source": [
    "R2 scores are very close for the train and test 86% and 85%, even though after cross validation we see R2 score of train test is only 80%. This is good but not ideal (in general we want more than 90%)."
   ]
  },
  {
   "cell_type": "code",
   "execution_count": null,
   "id": "20bd646b",
   "metadata": {},
   "outputs": [],
   "source": [
    "# Predictions on training set\n",
    "print(\"Predictions on training set...\")\n",
    "Y_train_pred = regressor.predict(X_train)\n",
    "print(\"...Done.\")\n",
    "print(Y_train_pred)\n",
    "print()# Predictions on test set\n",
    "print(\"Predictions on test set...\")\n",
    "Y_test_pred = regressor.predict(X_test)\n",
    "print(\"...Done.\")\n",
    "print(Y_test_pred)\n",
    "print()"
   ]
  },
  {
   "cell_type": "code",
   "execution_count": null,
   "id": "94447b3e",
   "metadata": {},
   "outputs": [],
   "source": [
    "# Calculate RMSE on test set\n",
    "rmse = np.sqrt(mean_squared_error(Y_test, Y_test_pred))\n",
    "print(\"Root Mean Squared Error (RMSE) on test set:\", rmse)"
   ]
  },
  {
   "cell_type": "markdown",
   "id": "e6f3d221",
   "metadata": {},
   "source": [
    "Considering that the range of petal lengths in our dataset (between 4 and 8 centimeters), an RMSE of 0.316 indicates that on average, the model's predictions are off by approximately 0.316 centimeters. We consider that this level of error is acceptable. However, it always depends on the goal of the study (if we need accurate measurements this might be considered too high). You visualize the model predictions for the train and test sets below. "
   ]
  },
  {
   "cell_type": "code",
   "execution_count": null,
   "id": "203102e5",
   "metadata": {},
   "outputs": [],
   "source": [
    "# Visualize predictions on training set\n",
    "fig = px.scatter(x=Y_train, y=Y_train_pred, title=\"Training Set Predictions\")\n",
    "fig.update_layout(xaxis_title=\"Actual Sepal Length (cm)\", yaxis_title=\"Predicted Sepal Length (cm)\")\n",
    "fig.show()\n",
    "\n",
    "# Visualize predictions on test set\n",
    "fig = px.scatter(x=Y_test, y=Y_test_pred, title=\"Test Set Predictions\")\n",
    "fig.update_layout(xaxis_title=\"Actual Sepal Length (cm)\", yaxis_title=\"Predicted Sepal Length (cm)\")\n",
    "fig.show()\n"
   ]
  },
  {
   "cell_type": "markdown",
   "id": "c2cef70c",
   "metadata": {},
   "source": [
    "##### Create a logistic regression classifier to classify the three types of flowers in the Iris dataset based on the petal length and petal width. Make sure to evaluate the performance with the appropiate metrics and plot the decision boundaries."
   ]
  },
  {
   "cell_type": "markdown",
   "id": "9a0f2e99",
   "metadata": {},
   "source": [
    "We need now sepcies as target and only petal length and petal width as features."
   ]
  },
  {
   "cell_type": "code",
   "execution_count": null,
   "id": "412cad59",
   "metadata": {},
   "outputs": [],
   "source": [
    "# Change target\n",
    "X = df[['petal length (cm)', 'petal width (cm)']]\n",
    "Y = df['species']\n",
    "# Make a train/test splitting (keep 80% of the dataset for model training).\n",
    "X_train, X_test, Y_train, Y_test = train_test_split(X, Y, test_size = 0.2, random_state = 43)\n",
    "# Redo scaling (careful fit transform only the train!)\n",
    "X_train = sc.fit_transform(X_train)\n",
    "X_test = sc.transform(X_test)\n",
    "# Train model\n",
    "print(\"Train model...\")\n",
    "regressor = LogisticRegression(random_state = 43)\n",
    "regressor.fit(X_train, Y_train)\n",
    "print(\"...Done.\")\n",
    "# Print regression coefficients\n",
    "print(\"Regression Coefficients:\")\n",
    "print(regressor.coef_)"
   ]
  },
  {
   "cell_type": "code",
   "execution_count": null,
   "id": "3dc5eca1",
   "metadata": {},
   "outputs": [],
   "source": [
    "# Predict target\n",
    "Y_train_pred = regressor.predict(X_train)\n",
    "Y_test_pred = regressor.predict(X_test)\n",
    "# Evaluate accuracy\n",
    "print(\"Accuracy on training set:\", accuracy_score(Y_train, Y_train_pred))\n",
    "print(\"Accuracy on test set:\", accuracy_score(Y_test, Y_test_pred))\n",
    "# Perform 10-fold cross-validation \n",
    "print(\"10-fold cross-validation...\")\n",
    "scores = cross_val_score(regressor, X_train, Y_train, cv=10)\n",
    "print('R2 score on training set with CV=10 is : ', scores.mean())\n",
    "print('R2 score standard deviation on training set with CV=10 is : ', scores.std())\n",
    "# Evaluate model with more metrics\n",
    "print(\"Classification Report:\")\n",
    "print(classification_report(Y_test, Y_test_pred))\n"
   ]
  },
  {
   "cell_type": "markdown",
   "id": "b46d6ba9",
   "metadata": {},
   "source": [
    "Accuracy is very high, 95.8%% of predictions of the train test are correct, but after cross validation this decreases to 95%, and 96.7% are correct for the test set. So accuracy is really close for train and test sets (however test is a bit higher suggesting maybe some overfitting?). In the classification report, we get more metrics. Precision measures the proportion of true positives, here for the test set, it is 100% for classes 0 (Setosa) and 3 (Versicolour) and 89% for class 2 (Virginica). Recall measures the proportion of true positive predictions: 100% for class 0 and 1, 89% for class 3. Finally, F1-score, the harmonic mean of precision and recall, taking into account both false positives and false negatives is of 97% weighted average for the whole report, which is satisfying. "
   ]
  },
  {
   "cell_type": "code",
   "execution_count": null,
   "id": "884421e6",
   "metadata": {},
   "outputs": [],
   "source": [
    "# Plot decision boundaries\n",
    "plt.figure(figsize=(10, 6))\n",
    "plot_decision_regions(X_train, Y_train.values, clf=regressor, legend=2)\n",
    "plt.xlabel('Petal Length (cm)')\n",
    "plt.ylabel('Petal Width (cm)')\n",
    "plt.title('Decision Boundaries - Training Set')\n",
    "plt.legend(title='Species', labels=['Setosa', 'Versicolor', 'Virginica'], loc='upper left')\n",
    "plt.show()"
   ]
  },
  {
   "cell_type": "markdown",
   "id": "9f456e13",
   "metadata": {},
   "source": [
    "The three species are much better separated that what we saw with PCA in the beginning. We still observe some points which are not well predicted for Versicolor and Virginica species, but Setosa is perfectly predicted. The decision boundaries are linear, thus, the separation is correct."
   ]
  },
  {
   "cell_type": "markdown",
   "id": "a3c1352e",
   "metadata": {},
   "source": [
    "##### Solve the same classification task problem but with a Support Vector Machine (SVM) classifier. Compare the performance with the logistic model you build."
   ]
  },
  {
   "cell_type": "markdown",
   "id": "3f821806",
   "metadata": {},
   "source": [
    "Here, we we will test several SVM classifiers, with different parameters, so we will use a gridsearch, including cross validation inside it. Then we will make predictions and evaluate the best predictor selected by the gridsearch."
   ]
  },
  {
   "cell_type": "code",
   "execution_count": null,
   "id": "41815b60",
   "metadata": {},
   "outputs": [],
   "source": [
    "# Make a train/test splitting (keep 80% of the dataset for model training).\n",
    "X_train, X_test, Y_train, Y_test = train_test_split(X, Y, test_size = 0.2, random_state = 43)\n",
    "\n",
    "# Redo scaling (careful fit transform only the train!)\n",
    "sc = StandardScaler()\n",
    "X_train = sc.fit_transform(X_train)\n",
    "X_test = sc.transform(X_test)\n",
    "\n",
    "# Define regressor\n",
    "regressor = SVC(random_state=43)\n",
    "\n",
    "# We will test linear (we saw that we could almost separate the 3 groups with lines), polynomial (should help for separation) and RBF\n",
    "param_grid = {\n",
    "    'kernel': ['linear', 'poly', 'rbf'],\n",
    "    'C': [0.1, 1, 10],\n",
    "    'degree': [2, 3, 4, 5, 6, 7, 8, 9, 10],  # for polynomial kernel\n",
    "    'gamma': ['scale', 'auto']  # for RBF kernel\n",
    "}\n",
    "\n",
    "gridsearch = GridSearchCV(regressor, param_grid, cv=5, verbose=2, n_jobs=-1)\n",
    "gridsearch.fit(X_train, Y_train)\n",
    "print(\"Best hyperparameters: \", gridsearch.best_params_)\n",
    "print(\"Best parameters: \", gridsearch.best_score_)"
   ]
  },
  {
   "cell_type": "markdown",
   "id": "7ebefd54",
   "metadata": {},
   "source": [
    "The best estimator calculated by the gridsearch is a SVM with an RBF kernel, with C=0.1 and gamma=scale."
   ]
  },
  {
   "cell_type": "code",
   "execution_count": null,
   "id": "5a23e4a3",
   "metadata": {},
   "outputs": [],
   "source": [
    "# Best estimator from grid search\n",
    "best_estimator = gridsearch.best_estimator_\n",
    "\n",
    "# Predict target\n",
    "Y_train_pred = best_estimator.predict(X_train)\n",
    "Y_test_pred = best_estimator.predict(X_test)\n",
    "\n",
    "# Evaluate model\n",
    "print(\"Accuracy on training set:\", accuracy_score(Y_train, Y_train_pred))\n",
    "print(\"Accuracy on test set:\", accuracy_score(Y_test, Y_test_pred))\n",
    "# Perform 10-fold cross-validation \n",
    "scores = cross_val_score(regressor, X_train, Y_train, cv=10)\n",
    "print('R2 score on training set with CV=10 is : ', scores.mean())\n",
    "print('R2 score standard deviation on training set with CV=10 is : ', scores.std())\n",
    "# Classification report\n",
    "print(\"Classification Report:\")\n",
    "print(classification_report(Y_test, Y_test_pred))"
   ]
  },
  {
   "cell_type": "markdown",
   "id": "b171f9d9",
   "metadata": {},
   "source": [
    "As we can see above, the metrics are the same as with the logistic regression, so we did not ameliorate our model. Maybe more paramaters could be tested or to use the SVM in ensemble methods. "
   ]
  },
  {
   "cell_type": "code",
   "execution_count": null,
   "id": "1794702c",
   "metadata": {},
   "outputs": [],
   "source": [
    "# Plot decision boundaries\n",
    "plt.figure(figsize=(10, 6))\n",
    "plot_decision_regions(X_train, Y_train.values, clf=best_estimator, legend=2)\n",
    "plt.xlabel('Petal Length (cm)')\n",
    "plt.ylabel('Petal Width (cm)')\n",
    "plt.title('Decision Boundaries - Training Set')\n",
    "plt.legend(title='Species', labels=['Setosa', 'Versicolor', 'Virginica'], loc='upper left')\n",
    "plt.show()"
   ]
  },
  {
   "cell_type": "markdown",
   "id": "bf1b6a88",
   "metadata": {},
   "source": [
    "We still observe the same 5 points which are not well predicted here. "
   ]
  },
  {
   "cell_type": "markdown",
   "id": "2412929a",
   "metadata": {},
   "source": [
    "# Exercise 3: Neural networks"
   ]
  },
  {
   "cell_type": "markdown",
   "id": "02122e4f",
   "metadata": {},
   "source": [
    "The MNIST dataset is a cornerstone in the field of computer vision and machine learning. It consists of a collection of 28x28 grayscale images of handwritten digits (0 through 9) and was originally created for training and testing various machine learning models because of its simplicity. \n",
    "\n",
    "This dataset is available on **Keras**, where each image in the MNIST dataset represents a single digit and is accompanied by its corresponding label, denoting the digit it portrays."
   ]
  },
  {
   "cell_type": "markdown",
   "id": "faf84265",
   "metadata": {},
   "source": [
    "LeNet-5, which we have seen in our class, is a pioneering CNN architecture developed by Yann LeCun and his collaborators in the late 1990s and was one of the first successful applications of CNNs to handwritten digit recognition. \n",
    "\n",
    "\n",
    "Implement a LeNet-5 structure using keras to train a model using the MNIST dataset. This is a suggested structure (you can apply another one):\n",
    "\n",
    "1. **Convolutional Layer (CONV1)**:\n",
    "\n",
    "    Parameters: Input (N) = 28 x 28 x 1, Kernel (K) = 5 x 5\n",
    "    Activation: ReLu\n",
    "    Apply 6 filters\n",
    "\n",
    "<!-- Add an empty line here -->\n",
    "\n",
    "2. **Average Pooling Layer (POOL1)**:\n",
    "\n",
    "    Parameters: Kernel (K) = 2 x 2\n",
    "\n",
    "<!-- Add an empty line here -->\n",
    "\n",
    "3. **Convolutional Layer (CONV2)**:\n",
    "\n",
    "    Parameters: Kernel (K) = 5 x 5\n",
    "    Activation: ReLu\n",
    "    Apply 16 filters\n",
    "\n",
    "<!-- Add an empty line here -->\n",
    "\n",
    "4. **Average Pooling Layer (POOL2)**:\n",
    "\n",
    "    Parameters: Kernel (K) = 2 x 2\n",
    "\n",
    "<!-- Add an empty line here -->\n",
    "\n",
    "5. **Fully Connected layer (FC1)**:\n",
    "\n",
    "    120 neurons\n",
    "    Activation: ReLu\n",
    "\n",
    "<!-- Add an empty line here -->\n",
    "\n",
    "6. **Fully Connected layer (FC2)**:\n",
    "\n",
    "    84 neurons\n",
    "    Activation: ReLu\n",
    "\n",
    "<!-- Add an empty line here -->\n",
    "\n",
    "7. **Output layer (Softmax)**:\n",
    "\n",
    "    10 neurons\n",
    "    Activation: Softmax\n",
    "    \n",
    "Do not forget about the normalization of the pixel integers into [0,1] floats and to one-hot encode the labels!\n",
    "\n",
    "Finally, evaluate and interpret the performance of the model by plotting the training history (including the loss and accuracy metrics for the test dataset) and discussing it."
   ]
  },
  {
   "cell_type": "code",
   "execution_count": 2,
   "id": "cd981df0",
   "metadata": {},
   "outputs": [
    {
     "data": {
      "text/plain": [
       "<matplotlib.image.AxesImage at 0x27a0fc7d0a0>"
      ]
     },
     "execution_count": 2,
     "metadata": {},
     "output_type": "execute_result"
    },
    {
     "data": {
      "image/png": "[encoded data removed]",
      "text/plain": [
       "<Figure size 640x480 with 1 Axes>"
      ]
     },
     "metadata": {},
     "output_type": "display_data"
    }
   ],
   "source": [
    "# Load and preprocess the MNIST dataset\n",
    "(train_images, train_labels), (test_images, test_labels) = mnist.load_data()\n",
    "color_chart = [\"#4B9AC7\", \"#4BE8E0\", \"#9DD4F3\", \"#97FBF6\", \"#2A7FAF\", \"#23B1AB\", \"#0E3449\", \"#015955\"]\n",
    "plt.imshow(test_images[0], cmap='Greys')"
   ]
  },
  {
   "cell_type": "code",
   "execution_count": 3,
   "id": "0d3e9b9d",
   "metadata": {},
   "outputs": [
    {
     "data": {
      "text/plain": [
       "(60000, 28, 28)"
      ]
     },
     "execution_count": 3,
     "metadata": {},
     "output_type": "execute_result"
    }
   ],
   "source": [
    "# Check our dataset\n",
    "train_images.shape"
   ]
  },
  {
   "cell_type": "markdown",
   "id": "da157c4e",
   "metadata": {},
   "source": [
    "There are 60,000 images in the dataset. Each image has a height of 28 pixels and a width of 28 pixels, so they are 2D arrays. Each image has 1 color channel, indicating grayscale images. For convolutional neural networks (CNN) like LeNet-5, it's essential to maintain the spatial structure of the input images: CNNs are designed to exploit the 2D structure of images by using convolutional and pooling layers, which learn spatial hierarchies of features. The data's training variables are pixels which values range from 0 to 255, we divide them by 255 so they are normalized."
   ]
  },
  {
   "cell_type": "code",
   "execution_count": 4,
   "id": "23ce9efe",
   "metadata": {},
   "outputs": [
    {
     "name": "stdout",
     "output_type": "stream",
     "text": [
      "(60000, 28, 28, 1)\n"
     ]
    }
   ],
   "source": [
    "# Preprocess train and test\n",
    "\n",
    "# Convert to floats in the range [0, 1] and normalize by dividing by 255\n",
    "train_images = train_images.reshape(-1, 28, 28, 1).astype('float32') / 255.0\n",
    "test_images = test_images.reshape(-1, 28, 28, 1).astype('float32') / 255.0\n",
    "# Check new shape\n",
    "print(train_images.shape)\n",
    "# Process labels\n",
    "train_labels = to_categorical(train_labels) # same as OneHotEncoder\n",
    "test_labels = to_categorical(test_labels)\n"
   ]
  },
  {
   "cell_type": "markdown",
   "id": "ef17b1be",
   "metadata": {},
   "source": [
    "Now, we create the model, using Sequential() which will create a network made of sequential layers of neurons. For each layer, we follow the description given above. This CNN architecture consists of alternating convolutional and pooling layers for feature extraction, followed by fully connected layers for classification. The ReLU activation function is used throughout the network, except for the output layer where softmax is used for multi-class classification."
   ]
  },
  {
   "cell_type": "code",
   "execution_count": 5,
   "id": "612734b1",
   "metadata": {},
   "outputs": [
    {
     "name": "stdout",
     "output_type": "stream",
     "text": [
      "WARNING:tensorflow:From c:\\Users\\elodi\\anaconda3\\lib\\site-packages\\keras\\src\\backend.py:873: The name tf.get_default_graph is deprecated. Please use tf.compat.v1.get_default_graph instead.\n",
      "\n",
      "Model: \"sequential\"\n",
      "_________________________________________________________________\n",
      " Layer (type)                Output Shape              Param #   \n",
      "=================================================================\n",
      " conv2d (Conv2D)             (None, 24, 24, 6)         156       \n",
      "                                                                 \n",
      " average_pooling2d (Average  (None, 12, 12, 6)         0         \n",
      " Pooling2D)                                                      \n",
      "                                                                 \n",
      " conv2d_1 (Conv2D)           (None, 8, 8, 16)          2416      \n",
      "                                                                 \n",
      " average_pooling2d_1 (Avera  (None, 4, 4, 16)          0         \n",
      " gePooling2D)                                                    \n",
      "                                                                 \n",
      " flatten (Flatten)           (None, 256)               0         \n",
      "                                                                 \n",
      " dense (Dense)               (None, 120)               30840     \n",
      "                                                                 \n",
      " dense_1 (Dense)             (None, 84)                10164     \n",
      "                                                                 \n",
      " dense_2 (Dense)             (None, 10)                850       \n",
      "                                                                 \n",
      "=================================================================\n",
      "Total params: 44426 (173.54 KB)\n",
      "Trainable params: 44426 (173.54 KB)\n",
      "Non-trainable params: 0 (0.00 Byte)\n",
      "_________________________________________________________________\n"
     ]
    }
   ],
   "source": [
    "model = Sequential([\n",
    "    Conv2D(6, kernel_size=(5, 5), activation='relu', input_shape=(28, 28, 1)),\n",
    "    AveragePooling2D(pool_size=(2, 2)),\n",
    "    Conv2D(16, kernel_size=(5, 5), activation='relu'),\n",
    "    AveragePooling2D(pool_size=(2, 2)),\n",
    "    Flatten(), # flattens the input feature maps into a 1D array, preparing them for the fully connected layers\n",
    "    Dense(120, activation='relu'),\n",
    "    Dense(84, activation='relu'),\n",
    "    Dense(10, activation='softmax')\n",
    "])\n",
    "\n",
    "# Show a summary of the model with all the parameters (weights) to train\n",
    "model.summary()"
   ]
  },
  {
   "cell_type": "markdown",
   "id": "5f5bd335",
   "metadata": {},
   "source": [
    "For compiling the model, we choose adam as an optimizer during training as it is known for its efficiency and adaptability. The objective is indeed to minimize the loss function: if it is reduced to an acceptable level, the model has learned the function mapping input to output. The loss function to use during training is the categorical crossentropy as we are doing classification with more than 2 classes (the classes are 0 to 9, the digits). We will evaluate the model with accuracy as we are in a classification problem. \n",
    "\n",
    "We then fit the model with 20 epochs first (iterations over the entire training dataset), which we can increase later if needed. IT means that 20 times pass the entire training dataset. We use a batch size of 128 (128 training examples per iteration). We will pass the input on each iteration in batches of 128 samples. It affects both the speed and stability of the training process. We don't want low number to avoid too much noise, we don't want too high to avoid because it can be limiting (memory). Finally, we evaluate the model on the test dataset and print the loss and accuracy to assess how well the model generalizes to unseen data."
   ]
  },
  {
   "cell_type": "code",
   "execution_count": 6,
   "id": "e52e1fd0",
   "metadata": {},
   "outputs": [
    {
     "name": "stdout",
     "output_type": "stream",
     "text": [
      "WARNING:tensorflow:From c:\\Users\\elodi\\anaconda3\\lib\\site-packages\\keras\\src\\optimizers\\__init__.py:309: The name tf.train.Optimizer is deprecated. Please use tf.compat.v1.train.Optimizer instead.\n",
      "\n",
      "Epoch 1/20\n",
      "WARNING:tensorflow:From c:\\Users\\elodi\\anaconda3\\lib\\site-packages\\keras\\src\\utils\\tf_utils.py:492: The name tf.ragged.RaggedTensorValue is deprecated. Please use tf.compat.v1.ragged.RaggedTensorValue instead.\n",
      "\n",
      "WARNING:tensorflow:From c:\\Users\\elodi\\anaconda3\\lib\\site-packages\\keras\\src\\engine\\base_layer_utils.py:384: The name tf.executing_eagerly_outside_functions is deprecated. Please use tf.compat.v1.executing_eagerly_outside_functions instead.\n",
      "\n",
      "469/469 [==============================] - 3s 5ms/step - loss: 0.3723 - accuracy: 0.8906 - val_loss: 0.1267 - val_accuracy: 0.9600\n",
      "Epoch 2/20\n",
      "469/469 [==============================] - 2s 5ms/step - loss: 0.1091 - accuracy: 0.9667 - val_loss: 0.0726 - val_accuracy: 0.9766\n",
      "Epoch 3/20\n",
      "469/469 [==============================] - 2s 5ms/step - loss: 0.0765 - accuracy: 0.9769 - val_loss: 0.0520 - val_accuracy: 0.9836\n",
      "Epoch 4/20\n",
      "469/469 [==============================] - 2s 5ms/step - loss: 0.0602 - accuracy: 0.9813 - val_loss: 0.0503 - val_accuracy: 0.9832\n",
      "Epoch 5/20\n",
      "469/469 [==============================] - 2s 5ms/step - loss: 0.0505 - accuracy: 0.9841 - val_loss: 0.0500 - val_accuracy: 0.9848\n",
      "Epoch 6/20\n",
      "469/469 [==============================] - 2s 5ms/step - loss: 0.0409 - accuracy: 0.9870 - val_loss: 0.0434 - val_accuracy: 0.9844\n",
      "Epoch 7/20\n",
      "469/469 [==============================] - 2s 5ms/step - loss: 0.0354 - accuracy: 0.9887 - val_loss: 0.0403 - val_accuracy: 0.9869\n",
      "Epoch 8/20\n",
      "469/469 [==============================] - 2s 5ms/step - loss: 0.0311 - accuracy: 0.9902 - val_loss: 0.0408 - val_accuracy: 0.9878\n",
      "Epoch 9/20\n",
      "469/469 [==============================] - 2s 5ms/step - loss: 0.0300 - accuracy: 0.9900 - val_loss: 0.0338 - val_accuracy: 0.9893\n",
      "Epoch 10/20\n",
      "469/469 [==============================] - 2s 5ms/step - loss: 0.0252 - accuracy: 0.9918 - val_loss: 0.0464 - val_accuracy: 0.9864\n",
      "Epoch 11/20\n",
      "469/469 [==============================] - 2s 5ms/step - loss: 0.0221 - accuracy: 0.9923 - val_loss: 0.0500 - val_accuracy: 0.9851\n",
      "Epoch 12/20\n",
      "469/469 [==============================] - 2s 5ms/step - loss: 0.0205 - accuracy: 0.9931 - val_loss: 0.0374 - val_accuracy: 0.9893\n",
      "Epoch 13/20\n",
      "469/469 [==============================] - 2s 5ms/step - loss: 0.0189 - accuracy: 0.9936 - val_loss: 0.0377 - val_accuracy: 0.9888\n",
      "Epoch 14/20\n",
      "469/469 [==============================] - 3s 6ms/step - loss: 0.0172 - accuracy: 0.9945 - val_loss: 0.0381 - val_accuracy: 0.9894\n",
      "Epoch 15/20\n",
      "469/469 [==============================] - 3s 6ms/step - loss: 0.0149 - accuracy: 0.9949 - val_loss: 0.0390 - val_accuracy: 0.9891\n",
      "Epoch 16/20\n",
      "469/469 [==============================] - 3s 6ms/step - loss: 0.0128 - accuracy: 0.9958 - val_loss: 0.0414 - val_accuracy: 0.9893\n",
      "Epoch 17/20\n",
      "469/469 [==============================] - 3s 6ms/step - loss: 0.0132 - accuracy: 0.9956 - val_loss: 0.0346 - val_accuracy: 0.9903\n",
      "Epoch 18/20\n",
      "469/469 [==============================] - 3s 6ms/step - loss: 0.0115 - accuracy: 0.9960 - val_loss: 0.0377 - val_accuracy: 0.9908\n",
      "Epoch 19/20\n",
      "469/469 [==============================] - 3s 6ms/step - loss: 0.0100 - accuracy: 0.9967 - val_loss: 0.0358 - val_accuracy: 0.9897\n",
      "Epoch 20/20\n",
      "469/469 [==============================] - 3s 6ms/step - loss: 0.0107 - accuracy: 0.9960 - val_loss: 0.0322 - val_accuracy: 0.9915\n",
      "313/313 [==============================] - 1s 2ms/step - loss: 0.0322 - accuracy: 0.9915\n",
      "Test Loss: 0.03221195191144943\n",
      "Test Accuracy: 0.9915000200271606\n"
     ]
    }
   ],
   "source": [
    "# Compile the model\n",
    "model.compile(optimizer='adam', loss='categorical_crossentropy', metrics=['accuracy'])\n",
    "\n",
    "# Train the model\n",
    "history = model.fit(train_images, train_labels, epochs=20, batch_size=128, validation_data=(test_images, test_labels))\n",
    "\n",
    "# Evaluate the model\n",
    "test_loss, test_acc = model.evaluate(test_images, test_labels)\n",
    "print('Test Loss:', test_loss)\n",
    "print('Test Accuracy:', test_acc)\n"
   ]
  },
  {
   "cell_type": "code",
   "execution_count": 7,
   "id": "2ada4f23",
   "metadata": {},
   "outputs": [],
   "source": [
    "def plot_loss_curves(history):\n",
    "    loss = history.history['loss']\n",
    "    val_loss = history.history['val_loss']\n",
    "\n",
    "    accuracy = history.history['accuracy']\n",
    "    val_accuracy = history.history['val_accuracy']\n",
    "\n",
    "    epochs = range(len(history.history['loss']))\n",
    "\n",
    "    plt.plot(epochs, loss, label='training_loss')\n",
    "    plt.plot(epochs, val_loss, label='val_loss')\n",
    "    plt.title('loss')\n",
    "    plt.xlabel('Epochs')\n",
    "    plt.legend()\n",
    "\n",
    "    plt.figure()\n",
    "    plt.plot(epochs, accuracy, label='training_accuracy')\n",
    "    plt.plot(epochs, val_accuracy, label='val_accuracy')\n",
    "    plt.title('Accuracy')\n",
    "    plt.xlabel('Epochs')\n",
    "    plt.legend()"
   ]
  },
  {
   "cell_type": "code",
   "execution_count": 8,
   "id": "375172d3",
   "metadata": {},
   "outputs": [
    {
     "data": {
      "image/png": "[encoded data removed]",
      "text/plain": [
       "<Figure size 640x480 with 1 Axes>"
      ]
     },
     "metadata": {},
     "output_type": "display_data"
    },
    {
     "data": {
      "image/png": "[encoded data removed]",
      "text/plain": [
       "<Figure size 640x480 with 1 Axes>"
      ]
     },
     "metadata": {},
     "output_type": "display_data"
    }
   ],
   "source": [
    "plot_loss_curves(history)"
   ]
  },
  {
   "cell_type": "markdown",
   "id": "64959704",
   "metadata": {},
   "source": [
    "We get a final loss of 0.03 which is very low suggesting that the model predicts really well compared to the true labels, and a final accuracy of 99.15%, which is quite high, suggesting that the model learnt well from the train and performs well on the test set. Both training and validation loss decrease over epochs, while accuracy increases so model is learning effectively without significant signs of overfitting (both curves are following each other and converging). "
   ]
  }
 ],
 "metadata": {
  "kernelspec": {
   "display_name": "MScOmicsVic",
   "language": "python",
   "name": "python3"
  },
  "language_info": {
   "codemirror_mode": {
    "name": "ipython",
    "version": 3
   },
   "file_extension": ".py",
   "mimetype": "text/x-python",
   "name": "python",
   "nbconvert_exporter": "python",
   "pygments_lexer": "ipython3",
   "version": "3.9.13"
  },
  "toc": {
   "base_numbering": 1,
   "nav_menu": {
    "height": "308px",
    "width": "346px"
   },
   "number_sections": true,
   "sideBar": true,
   "skip_h1_title": false,
   "title_cell": "Table of Contents",
   "title_sidebar": "Contents",
   "toc_cell": false,
   "toc_position": {
    "height": "calc(100% - 180px)",
    "left": "10px",
    "top": "150px",
    "width": "294px"
   },
   "toc_section_display": true,
   "toc_window_display": true
  }
 },
 "nbformat": 4,
 "nbformat_minor": 5
}
